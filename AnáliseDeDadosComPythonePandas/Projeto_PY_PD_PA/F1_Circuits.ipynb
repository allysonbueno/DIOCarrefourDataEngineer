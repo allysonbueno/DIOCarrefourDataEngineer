{
 "cells": [
  {
   "cell_type": "code",
   "execution_count": 1,
   "metadata": {
    "colab": {
     "base_uri": "https://localhost:8080/"
    },
    "executionInfo": {
     "elapsed": 4625,
     "status": "ok",
     "timestamp": 1631551180890,
     "user": {
      "displayName": "Allyson Bueno",
      "photoUrl": "https://lh3.googleusercontent.com/a-/AOh14GgOpD2m-BWySIiTzrOpCQnsyU8yY7sM3cl9MI6nxg=s64",
      "userId": "07589286339759620665"
     },
     "user_tz": 180
    },
    "id": "idV9PtZnu1aO",
    "outputId": "66210592-e078-42a5-e418-55aea9123f08"
   },
   "outputs": [
    {
     "name": "stdout",
     "output_type": "stream",
     "text": [
      "Collecting pandera\n",
      "  Downloading pandera-0.7.1-py3-none-any.whl (165 kB)\n",
      "\u001b[K     |████████████████████████████████| 165 kB 5.1 MB/s eta 0:00:01\n",
      "\u001b[?25hRequirement already satisfied: wrapt in /usr/local/lib/python3.7/dist-packages (from pandera) (1.12.1)\n",
      "Requirement already satisfied: pandas>=1.0 in /usr/local/lib/python3.7/dist-packages (from pandera) (1.1.5)\n",
      "Requirement already satisfied: packaging>=20.0 in /usr/local/lib/python3.7/dist-packages (from pandera) (21.0)\n",
      "Requirement already satisfied: pyarrow in /usr/local/lib/python3.7/dist-packages (from pandera) (3.0.0)\n",
      "Requirement already satisfied: typing-extensions>=3.7.4.3 in /usr/local/lib/python3.7/dist-packages (from pandera) (3.7.4.3)\n",
      "Requirement already satisfied: numpy>=1.9.0 in /usr/local/lib/python3.7/dist-packages (from pandera) (1.19.5)\n",
      "Requirement already satisfied: setuptools<58.0.0 in /usr/local/lib/python3.7/dist-packages (from pandera) (57.4.0)\n",
      "Collecting typing-inspect>=0.6.0\n",
      "  Downloading typing_inspect-0.7.1-py3-none-any.whl (8.4 kB)\n",
      "Requirement already satisfied: pyparsing>=2.0.2 in /usr/local/lib/python3.7/dist-packages (from packaging>=20.0->pandera) (2.4.7)\n",
      "Requirement already satisfied: pytz>=2017.2 in /usr/local/lib/python3.7/dist-packages (from pandas>=1.0->pandera) (2018.9)\n",
      "Requirement already satisfied: python-dateutil>=2.7.3 in /usr/local/lib/python3.7/dist-packages (from pandas>=1.0->pandera) (2.8.2)\n",
      "Requirement already satisfied: six>=1.5 in /usr/local/lib/python3.7/dist-packages (from python-dateutil>=2.7.3->pandas>=1.0->pandera) (1.15.0)\n",
      "Collecting mypy-extensions>=0.3.0\n",
      "  Downloading mypy_extensions-0.4.3-py2.py3-none-any.whl (4.5 kB)\n",
      "Installing collected packages: mypy-extensions, typing-inspect, pandera\n",
      "Successfully installed mypy-extensions-0.4.3 pandera-0.7.1 typing-inspect-0.7.1\n"
     ]
    }
   ],
   "source": [
    "# descomentar se não tiver o pandera instalado\n",
    "# pip install pandera"
   ]
  },
  {
   "cell_type": "code",
   "execution_count": 2,
   "metadata": {
    "executionInfo": {
     "elapsed": 976,
     "status": "ok",
     "timestamp": 1631551181854,
     "user": {
      "displayName": "Allyson Bueno",
      "photoUrl": "https://lh3.googleusercontent.com/a-/AOh14GgOpD2m-BWySIiTzrOpCQnsyU8yY7sM3cl9MI6nxg=s64",
      "userId": "07589286339759620665"
     },
     "user_tz": 180
    },
    "id": "a8ROF-4uqez9"
   },
   "outputs": [],
   "source": [
    "import pandas as pd\n",
    "import pandera as pa"
   ]
  },
  {
   "cell_type": "code",
   "execution_count": 3,
   "metadata": {
    "executionInfo": {
     "elapsed": 3,
     "status": "ok",
     "timestamp": 1631551182160,
     "user": {
      "displayName": "Allyson Bueno",
      "photoUrl": "https://lh3.googleusercontent.com/a-/AOh14GgOpD2m-BWySIiTzrOpCQnsyU8yY7sM3cl9MI6nxg=s64",
      "userId": "07589286339759620665"
     },
     "user_tz": 180
    },
    "id": "e0vvdPksq0j_"
   },
   "outputs": [],
   "source": [
    "# df = pd.read_csv('/content/drive/MyDrive/Colab Notebooks/F1_Data/circuits.csv', sep=',')\n",
    "df = pd.read_csv('circuits.csv', sep=',')"
   ]
  },
  {
   "cell_type": "code",
   "execution_count": 4,
   "metadata": {
    "executionInfo": {
     "elapsed": 23,
     "status": "ok",
     "timestamp": 1631551182471,
     "user": {
      "displayName": "Allyson Bueno",
      "photoUrl": "https://lh3.googleusercontent.com/a-/AOh14GgOpD2m-BWySIiTzrOpCQnsyU8yY7sM3cl9MI6nxg=s64",
      "userId": "07589286339759620665"
     },
     "user_tz": 180
    },
    "id": "IYkBy8O_0EQV"
   },
   "outputs": [],
   "source": [
    "df.rename(columns={\"circuitId\":\"ID\",\"circuitRef\":\"APELIDO\",\"name\":\"NOME\",\"location\":\"LOCALIZACAO\",\"country\":\"PAIS\",\n",
    "          \"lat\":\"LATITUDE\",\"lng\":\"LONGITUDE\",\"alt\":\"ALTITUDE\",\"url\":\"WIKI\"},inplace=True)"
   ]
  },
  {
   "cell_type": "code",
   "execution_count": 5,
   "metadata": {
    "executionInfo": {
     "elapsed": 23,
     "status": "ok",
     "timestamp": 1631551182472,
     "user": {
      "displayName": "Allyson Bueno",
      "photoUrl": "https://lh3.googleusercontent.com/a-/AOh14GgOpD2m-BWySIiTzrOpCQnsyU8yY7sM3cl9MI6nxg=s64",
      "userId": "07589286339759620665"
     },
     "user_tz": 180
    },
    "id": "2si3fjwRtnfC"
   },
   "outputs": [],
   "source": [
    "schema = pa.DataFrameSchema(\n",
    "    columns = {\n",
    "        \"ID\": pa.Column(pa.Int),\n",
    "        \"APELIDO\": pa.Column(pa.String),\n",
    "        \"NOME\": pa.Column(pa.String),\n",
    "        \"LOCALIZACAO\": pa.Column(pa.String),\n",
    "        \"PAIS\": pa.Column(pa.String),\n",
    "        \"LATITUDE\": pa.Column(pa.String),\n",
    "        \"LONGITUDE\": pa.Column(pa.String),\n",
    "        \"ALTITUDE\": pa.Column(pa.Int),\n",
    "        \"WIKI\": pa.Column(pa.String)\n",
    "    })"
   ]
  },
  {
   "cell_type": "code",
   "execution_count": 6,
   "metadata": {
    "colab": {
     "base_uri": "https://localhost:8080/",
     "height": 204
    },
    "executionInfo": {
     "elapsed": 24,
     "status": "ok",
     "timestamp": 1631551182473,
     "user": {
      "displayName": "Allyson Bueno",
      "photoUrl": "https://lh3.googleusercontent.com/a-/AOh14GgOpD2m-BWySIiTzrOpCQnsyU8yY7sM3cl9MI6nxg=s64",
      "userId": "07589286339759620665"
     },
     "user_tz": 180
    },
    "id": "vU4fl5cKviEz",
    "outputId": "86667733-6af5-40c4-95c1-ab045d352ce9"
   },
   "outputs": [
    {
     "data": {
      "text/html": [
       "<div>\n",
       "<style scoped>\n",
       "    .dataframe tbody tr th:only-of-type {\n",
       "        vertical-align: middle;\n",
       "    }\n",
       "\n",
       "    .dataframe tbody tr th {\n",
       "        vertical-align: top;\n",
       "    }\n",
       "\n",
       "    .dataframe thead th {\n",
       "        text-align: right;\n",
       "    }\n",
       "</style>\n",
       "<table border=\"1\" class=\"dataframe\">\n",
       "  <thead>\n",
       "    <tr style=\"text-align: right;\">\n",
       "      <th></th>\n",
       "      <th>ID</th>\n",
       "      <th>APELIDO</th>\n",
       "      <th>NOME</th>\n",
       "      <th>LOCALIZACAO</th>\n",
       "      <th>PAIS</th>\n",
       "      <th>LATITUDE</th>\n",
       "      <th>LONGITUDE</th>\n",
       "      <th>ALTITUDE</th>\n",
       "      <th>WIKI</th>\n",
       "    </tr>\n",
       "  </thead>\n",
       "  <tbody>\n",
       "    <tr>\n",
       "      <th>0</th>\n",
       "      <td>1</td>\n",
       "      <td>albert_park</td>\n",
       "      <td>Albert Park Grand Prix Circuit</td>\n",
       "      <td>Melbourne</td>\n",
       "      <td>Australia</td>\n",
       "      <td>-37.84970</td>\n",
       "      <td>144.96800</td>\n",
       "      <td>10</td>\n",
       "      <td>http://en.wikipedia.org/wiki/Melbourne_Grand_P...</td>\n",
       "    </tr>\n",
       "    <tr>\n",
       "      <th>1</th>\n",
       "      <td>2</td>\n",
       "      <td>sepang</td>\n",
       "      <td>Sepang International Circuit</td>\n",
       "      <td>Kuala Lumpur</td>\n",
       "      <td>Malaysia</td>\n",
       "      <td>2.76083</td>\n",
       "      <td>101.73800</td>\n",
       "      <td>18</td>\n",
       "      <td>http://en.wikipedia.org/wiki/Sepang_Internatio...</td>\n",
       "    </tr>\n",
       "    <tr>\n",
       "      <th>2</th>\n",
       "      <td>3</td>\n",
       "      <td>bahrain</td>\n",
       "      <td>Bahrain International Circuit</td>\n",
       "      <td>Sakhir</td>\n",
       "      <td>Bahrain</td>\n",
       "      <td>26.03250</td>\n",
       "      <td>50.51060</td>\n",
       "      <td>7</td>\n",
       "      <td>http://en.wikipedia.org/wiki/Bahrain_Internati...</td>\n",
       "    </tr>\n",
       "    <tr>\n",
       "      <th>3</th>\n",
       "      <td>4</td>\n",
       "      <td>catalunya</td>\n",
       "      <td>Circuit de Barcelona-Catalunya</td>\n",
       "      <td>Montmeló</td>\n",
       "      <td>Spain</td>\n",
       "      <td>41.57000</td>\n",
       "      <td>2.26111</td>\n",
       "      <td>109</td>\n",
       "      <td>http://en.wikipedia.org/wiki/Circuit_de_Barcel...</td>\n",
       "    </tr>\n",
       "    <tr>\n",
       "      <th>4</th>\n",
       "      <td>5</td>\n",
       "      <td>istanbul</td>\n",
       "      <td>Istanbul Park</td>\n",
       "      <td>Istanbul</td>\n",
       "      <td>Turkey</td>\n",
       "      <td>40.95170</td>\n",
       "      <td>29.40500</td>\n",
       "      <td>130</td>\n",
       "      <td>http://en.wikipedia.org/wiki/Istanbul_Park</td>\n",
       "    </tr>\n",
       "  </tbody>\n",
       "</table>\n",
       "</div>"
      ],
      "text/plain": [
       "   ID      APELIDO  ... ALTITUDE                                               WIKI\n",
       "0   1  albert_park  ...       10  http://en.wikipedia.org/wiki/Melbourne_Grand_P...\n",
       "1   2       sepang  ...       18  http://en.wikipedia.org/wiki/Sepang_Internatio...\n",
       "2   3      bahrain  ...        7  http://en.wikipedia.org/wiki/Bahrain_Internati...\n",
       "3   4    catalunya  ...      109  http://en.wikipedia.org/wiki/Circuit_de_Barcel...\n",
       "4   5     istanbul  ...      130         http://en.wikipedia.org/wiki/Istanbul_Park\n",
       "\n",
       "[5 rows x 9 columns]"
      ]
     },
     "execution_count": 6,
     "metadata": {},
     "output_type": "execute_result"
    }
   ],
   "source": [
    "# df.isna().sum()\n",
    "df.head()\n"
   ]
  },
  {
   "cell_type": "code",
   "execution_count": 7,
   "metadata": {
    "colab": {
     "base_uri": "https://localhost:8080/"
    },
    "executionInfo": {
     "elapsed": 25,
     "status": "ok",
     "timestamp": 1631551182475,
     "user": {
      "displayName": "Allyson Bueno",
      "photoUrl": "https://lh3.googleusercontent.com/a-/AOh14GgOpD2m-BWySIiTzrOpCQnsyU8yY7sM3cl9MI6nxg=s64",
      "userId": "07589286339759620665"
     },
     "user_tz": 180
    },
    "id": "XlMJ9DFq3GaW",
    "outputId": "273193f1-a6ab-4d9c-dcbb-054f290815aa"
   },
   "outputs": [
    {
     "data": {
      "text/plain": [
       "(77, 9)"
      ]
     },
     "execution_count": 7,
     "metadata": {},
     "output_type": "execute_result"
    }
   ],
   "source": [
    "# Retorna total de linhas e colunas\n",
    "df.shape"
   ]
  },
  {
   "cell_type": "code",
   "execution_count": 8,
   "metadata": {
    "colab": {
     "base_uri": "https://localhost:8080/",
     "height": 111
    },
    "executionInfo": {
     "elapsed": 24,
     "status": "ok",
     "timestamp": 1631551182476,
     "user": {
      "displayName": "Allyson Bueno",
      "photoUrl": "https://lh3.googleusercontent.com/a-/AOh14GgOpD2m-BWySIiTzrOpCQnsyU8yY7sM3cl9MI6nxg=s64",
      "userId": "07589286339759620665"
     },
     "user_tz": 180
    },
    "id": "Rvufxklov0rU",
    "outputId": "7c4a2c87-41af-445a-ff88-f823b5509287"
   },
   "outputs": [
    {
     "data": {
      "text/html": [
       "<div>\n",
       "<style scoped>\n",
       "    .dataframe tbody tr th:only-of-type {\n",
       "        vertical-align: middle;\n",
       "    }\n",
       "\n",
       "    .dataframe tbody tr th {\n",
       "        vertical-align: top;\n",
       "    }\n",
       "\n",
       "    .dataframe thead th {\n",
       "        text-align: right;\n",
       "    }\n",
       "</style>\n",
       "<table border=\"1\" class=\"dataframe\">\n",
       "  <thead>\n",
       "    <tr style=\"text-align: right;\">\n",
       "      <th></th>\n",
       "      <th>ID</th>\n",
       "      <th>APELIDO</th>\n",
       "      <th>NOME</th>\n",
       "      <th>LOCALIZACAO</th>\n",
       "      <th>PAIS</th>\n",
       "      <th>LATITUDE</th>\n",
       "      <th>LONGITUDE</th>\n",
       "      <th>ALTITUDE</th>\n",
       "      <th>WIKI</th>\n",
       "    </tr>\n",
       "  </thead>\n",
       "  <tbody>\n",
       "    <tr>\n",
       "      <th>17</th>\n",
       "      <td>18</td>\n",
       "      <td>interlagos</td>\n",
       "      <td>Autódromo José Carlos Pace</td>\n",
       "      <td>São Paulo</td>\n",
       "      <td>Brazil</td>\n",
       "      <td>-23.7036</td>\n",
       "      <td>-46.6997</td>\n",
       "      <td>785</td>\n",
       "      <td>http://en.wikipedia.org/wiki/Aut%C3%B3dromo_Jo...</td>\n",
       "    </tr>\n",
       "    <tr>\n",
       "      <th>35</th>\n",
       "      <td>36</td>\n",
       "      <td>jacarepagua</td>\n",
       "      <td>Autódromo Internacional Nelson Piquet</td>\n",
       "      <td>Rio de Janeiro</td>\n",
       "      <td>Brazil</td>\n",
       "      <td>-22.9756</td>\n",
       "      <td>-43.3950</td>\n",
       "      <td>1126</td>\n",
       "      <td>http://en.wikipedia.org/wiki/Aut%C3%B3dromo_In...</td>\n",
       "    </tr>\n",
       "  </tbody>\n",
       "</table>\n",
       "</div>"
      ],
      "text/plain": [
       "    ID  ...                                               WIKI\n",
       "17  18  ...  http://en.wikipedia.org/wiki/Aut%C3%B3dromo_Jo...\n",
       "35  36  ...  http://en.wikipedia.org/wiki/Aut%C3%B3dromo_In...\n",
       "\n",
       "[2 rows x 9 columns]"
      ]
     },
     "execution_count": 8,
     "metadata": {},
     "output_type": "execute_result"
    }
   ],
   "source": [
    "filtro = df['PAIS'].str.contains('Brazil')\n",
    "df.loc[filtro]"
   ]
  },
  {
   "cell_type": "code",
   "execution_count": 9,
   "metadata": {
    "colab": {
     "base_uri": "https://localhost:8080/"
    },
    "executionInfo": {
     "elapsed": 24,
     "status": "ok",
     "timestamp": 1631551182477,
     "user": {
      "displayName": "Allyson Bueno",
      "photoUrl": "https://lh3.googleusercontent.com/a-/AOh14GgOpD2m-BWySIiTzrOpCQnsyU8yY7sM3cl9MI6nxg=s64",
      "userId": "07589286339759620665"
     },
     "user_tz": 180
    },
    "id": "v5wbcZyi-QtL",
    "outputId": "173adfb4-026d-4ea2-d9a8-5d5ed0cdeb05"
   },
   "outputs": [
    {
     "data": {
      "text/plain": [
       "Index(['ID', 'APELIDO', 'NOME', 'LOCALIZACAO', 'PAIS', 'LATITUDE', 'LONGITUDE',\n",
       "       'ALTITUDE', 'WIKI'],\n",
       "      dtype='object')"
      ]
     },
     "execution_count": 9,
     "metadata": {},
     "output_type": "execute_result"
    }
   ],
   "source": [
    "df.columns"
   ]
  },
  {
   "cell_type": "code",
   "execution_count": 10,
   "metadata": {
    "colab": {
     "base_uri": "https://localhost:8080/"
    },
    "executionInfo": {
     "elapsed": 23,
     "status": "ok",
     "timestamp": 1631551182478,
     "user": {
      "displayName": "Allyson Bueno",
      "photoUrl": "https://lh3.googleusercontent.com/a-/AOh14GgOpD2m-BWySIiTzrOpCQnsyU8yY7sM3cl9MI6nxg=s64",
      "userId": "07589286339759620665"
     },
     "user_tz": 180
    },
    "id": "pHGOyrbzM99-",
    "outputId": "80a12cda-7648-4ca6-a70a-7c935a1949d5"
   },
   "outputs": [
    {
     "data": {
      "text/plain": [
       "array(['Australia', 'Malaysia', 'Bahrain', 'Spain', 'Turkey', 'Monaco',\n",
       "       'Canada', 'France', 'UK', 'Germany', 'Hungary', 'Belgium', 'Italy',\n",
       "       'Singapore', 'Japan', 'China', 'Brazil', 'USA', 'Austria', 'UAE',\n",
       "       'Argentina', 'Portugal', 'South Africa', 'Mexico', 'Korea',\n",
       "       'Netherlands', 'Sweden', 'Morocco', 'Switzerland', 'India',\n",
       "       'Russia', 'Azerbaijan', 'Vietnam', 'Saudi Arabia'], dtype=object)"
      ]
     },
     "execution_count": 10,
     "metadata": {},
     "output_type": "execute_result"
    }
   ],
   "source": [
    "df[\"PAIS\"].unique()"
   ]
  },
  {
   "cell_type": "code",
   "execution_count": 17,
   "metadata": {
    "colab": {
     "base_uri": "https://localhost:8080/"
    },
    "executionInfo": {
     "elapsed": 252,
     "status": "ok",
     "timestamp": 1631552486348,
     "user": {
      "displayName": "Allyson Bueno",
      "photoUrl": "https://lh3.googleusercontent.com/a-/AOh14GgOpD2m-BWySIiTzrOpCQnsyU8yY7sM3cl9MI6nxg=s64",
      "userId": "07589286339759620665"
     },
     "user_tz": 180
    },
    "id": "hNG7UK4eRd9T",
    "outputId": "8e1ee9a7-15fc-4f2c-92f1-869fbe82cdfe"
   },
   "outputs": [
    {
     "data": {
      "text/plain": [
       "PAIS\n",
       "Argentina                                          [Buenos Aires]\n",
       "Australia                                   [Melbourne, Adelaide]\n",
       "Austria                                       [Spielburg, Styria]\n",
       "Azerbaijan                                                 [Baku]\n",
       "Bahrain                                                  [Sakhir]\n",
       "Belgium                           [Spa, Heusden-Zolder, Brussels]\n",
       "Brazil                                [São Paulo, Rio de Janeiro]\n",
       "Canada                                [Montreal, Ontario, Quebec]\n",
       "China                                                  [Shanghai]\n",
       "France          [Magny Cours, Le Castellet, Dijon, Clermont-Fe...\n",
       "Germany                             [Hockenheim, Nürburg, Berlin]\n",
       "Hungary                                                [Budapest]\n",
       "India                                             [Uttar Pradesh]\n",
       "Italy                            [Monza, Imola, Pescara, Mugello]\n",
       "Japan                                    [Oyama, Suzuka, Okayama]\n",
       "Korea                                            [Yeongam County]\n",
       "Malaysia                                           [Kuala Lumpur]\n",
       "Mexico                                              [Mexico City]\n",
       "Monaco                                              [Monte-Carlo]\n",
       "Morocco                                              [Casablanca]\n",
       "Netherlands                                           [Zandvoort]\n",
       "Portugal                      [Estoril, Oporto, Lisbon, Portimão]\n",
       "Russia                                                    [Sochi]\n",
       "Saudi Arabia                                             [Jeddah]\n",
       "Singapore                                            [Marina Bay]\n",
       "South Africa                     [Midrand, Eastern Cape Province]\n",
       "Spain           [Montmeló, Valencia, Jerez de la Frontera, Mad...\n",
       "Sweden                                               [Anderstorp]\n",
       "Switzerland                                                [Bern]\n",
       "Turkey                                                 [Istanbul]\n",
       "UAE                                                   [Abu Dhabi]\n",
       "UK               [Silverstone, Castle Donington, Kent, Liverpool]\n",
       "USA             [Indianapolis, Phoenix, Detroit, Dallas, Calif...\n",
       "Vietnam                                                   [Hanoi]\n",
       "Name: LOCALIZACAO, dtype: object"
      ]
     },
     "execution_count": 17,
     "metadata": {},
     "output_type": "execute_result"
    }
   ],
   "source": [
    "df.groupby('PAIS')['LOCALIZACAO'].unique()\n",
    "# df.groupby('PAIS')['LOCALIZACAO'].nunique()"
   ]
  }
 ],
 "metadata": {
  "colab": {
   "authorship_tag": "ABX9TyNKzU6j8e3Nm4/zbguYqbvK",
   "collapsed_sections": [],
   "mount_file_id": "1KtSgOkqLrV6U_S7_qvChVckYYwk4oP2Q",
   "name": "F1_Circuits.ipynb",
   "provenance": []
  },
  "kernelspec": {
   "display_name": "Python 3",
   "language": "python",
   "name": "python3"
  },
  "language_info": {
   "codemirror_mode": {
    "name": "ipython",
    "version": 3
   },
   "file_extension": ".py",
   "mimetype": "text/x-python",
   "name": "python",
   "nbconvert_exporter": "python",
   "pygments_lexer": "ipython3",
   "version": "3.8.8"
  }
 },
 "nbformat": 4,
 "nbformat_minor": 4
}
