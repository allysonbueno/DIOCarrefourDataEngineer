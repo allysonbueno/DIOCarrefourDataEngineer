{
 "cells": [
  {
   "cell_type": "code",
   "execution_count": 1,
   "metadata": {
    "colab": {
     "base_uri": "https://localhost:8080/"
    },
    "executionInfo": {
     "elapsed": 4208,
     "status": "ok",
     "timestamp": 1631551171527,
     "user": {
      "displayName": "Allyson Bueno",
      "photoUrl": "https://lh3.googleusercontent.com/a-/AOh14GgOpD2m-BWySIiTzrOpCQnsyU8yY7sM3cl9MI6nxg=s64",
      "userId": "07589286339759620665"
     },
     "user_tz": 180
    },
    "id": "fy6OdvDh_RIu",
    "outputId": "54a88d4e-6599-4e4b-ffe4-4060fc80e936"
   },
   "outputs": [],
   "source": [
    "# descomentar se não tiver o pandera instalado\n",
    "# pip install pandera"
   ]
  },
  {
   "cell_type": "code",
   "execution_count": 2,
   "metadata": {
    "executionInfo": {
     "elapsed": 684,
     "status": "ok",
     "timestamp": 1631551172208,
     "user": {
      "displayName": "Allyson Bueno",
      "photoUrl": "https://lh3.googleusercontent.com/a-/AOh14GgOpD2m-BWySIiTzrOpCQnsyU8yY7sM3cl9MI6nxg=s64",
      "userId": "07589286339759620665"
     },
     "user_tz": 180
    },
    "id": "lULhdiiX_GT-"
   },
   "outputs": [],
   "source": [
    "import pandas as pd\n",
    "import pandera as pa"
   ]
  },
  {
   "cell_type": "code",
   "execution_count": 3,
   "metadata": {
    "executionInfo": {
     "elapsed": 298,
     "status": "ok",
     "timestamp": 1631551172768,
     "user": {
      "displayName": "Allyson Bueno",
      "photoUrl": "https://lh3.googleusercontent.com/a-/AOh14GgOpD2m-BWySIiTzrOpCQnsyU8yY7sM3cl9MI6nxg=s64",
      "userId": "07589286339759620665"
     },
     "user_tz": 180
    },
    "id": "Djzjif-T-oIH"
   },
   "outputs": [],
   "source": [
    "#df = pd.read_csv('/content/drive/MyDrive/Colab Notebooks/F1_Data/races.csv', error_bad_lines=False, sep=',')\n",
    "# df = pd.read_csv('/content/drive/MyDrive/Colab Notebooks/F1_Data/races.csv', sep=',')\n",
    "df = pd.read_csv('races.csv', sep=',')"
   ]
  },
  {
   "cell_type": "code",
   "execution_count": 4,
   "metadata": {
    "colab": {
     "base_uri": "https://localhost:8080/"
    },
    "executionInfo": {
     "elapsed": 16,
     "status": "ok",
     "timestamp": 1631551172769,
     "user": {
      "displayName": "Allyson Bueno",
      "photoUrl": "https://lh3.googleusercontent.com/a-/AOh14GgOpD2m-BWySIiTzrOpCQnsyU8yY7sM3cl9MI6nxg=s64",
      "userId": "07589286339759620665"
     },
     "user_tz": 180
    },
    "id": "Jc9Ewiy2KCAS",
    "outputId": "8b5344c4-eb2e-4a2b-8863-f3bff02a4cf3"
   },
   "outputs": [
    {
     "data": {
      "text/plain": [
       "ID_CORRIDA       int64\n",
       "ANO              int64\n",
       "ETAPA            int64\n",
       "ID_CIRCUITO      int64\n",
       "NOME_CORRIDA    object\n",
       "DATA            object\n",
       "HORARIO         object\n",
       "URL             object\n",
       "dtype: object"
      ]
     },
     "execution_count": 4,
     "metadata": {},
     "output_type": "execute_result"
    }
   ],
   "source": [
    "df.rename(columns={\n",
    "  \"raceId\":\"ID_CORRIDA\",\"year\":\"ANO\",\"round\":\"ETAPA\",\"circuitId\":\"ID_CIRCUITO\",\n",
    "  \"name\":\"NOME_CORRIDA\",\"date\":\"DATA\",\"time\":\"HORARIO\",\"url\":\"URL\"}, inplace=True)\n",
    "df.dtypes"
   ]
  },
  {
   "cell_type": "code",
   "execution_count": 5,
   "metadata": {
    "executionInfo": {
     "elapsed": 15,
     "status": "ok",
     "timestamp": 1631551172771,
     "user": {
      "displayName": "Allyson Bueno",
      "photoUrl": "https://lh3.googleusercontent.com/a-/AOh14GgOpD2m-BWySIiTzrOpCQnsyU8yY7sM3cl9MI6nxg=s64",
      "userId": "07589286339759620665"
     },
     "user_tz": 180
    },
    "id": "srtyL3WwTC1J"
   },
   "outputs": [],
   "source": [
    "df[\"ID_CORRIDA\"] = df[\"ID_CORRIDA\"].astype(\"object\")\n",
    "df[\"ID_CIRCUITO\"] = df[\"ID_CIRCUITO\"].astype(\"object\")\n",
    "df[\"DATA\"] = pd.to_datetime(df[\"DATA\"])"
   ]
  },
  {
   "cell_type": "code",
   "execution_count": 6,
   "metadata": {
    "executionInfo": {
     "elapsed": 15,
     "status": "ok",
     "timestamp": 1631551172772,
     "user": {
      "displayName": "Allyson Bueno",
      "photoUrl": "https://lh3.googleusercontent.com/a-/AOh14GgOpD2m-BWySIiTzrOpCQnsyU8yY7sM3cl9MI6nxg=s64",
      "userId": "07589286339759620665"
     },
     "user_tz": 180
    },
    "id": "rcGyQo_LS2ww"
   },
   "outputs": [],
   "source": [
    "schema = pa.DataFrameSchema(\n",
    "    columns = {\n",
    "        \"ANO\": pa.Column(pa.Int),\n",
    "        \"ETAPA\": pa.Column(pa.String),\n",
    "        \"NOME_CORRIDA\": pa.Column(pa.String),\n",
    "        \"HORARIO\": pa.Column(pa.String, pa.Check.str_matches(r'^([0-1]?[0-9]|[2][0-3]):([0-5][0-9])(:[0-5][0-9])?$'), nullable=True),\n",
    "        \"URL\": pa.Column(pa.String),\n",
    "    })"
   ]
  },
  {
   "cell_type": "code",
   "execution_count": 7,
   "metadata": {
    "colab": {
     "base_uri": "https://localhost:8080/"
    },
    "executionInfo": {
     "elapsed": 16,
     "status": "ok",
     "timestamp": 1631551172773,
     "user": {
      "displayName": "Allyson Bueno",
      "photoUrl": "https://lh3.googleusercontent.com/a-/AOh14GgOpD2m-BWySIiTzrOpCQnsyU8yY7sM3cl9MI6nxg=s64",
      "userId": "07589286339759620665"
     },
     "user_tz": 180
    },
    "id": "KXPwstumT56h",
    "outputId": "bf00c955-b9a4-42a4-a792-19fb0ff7d08e"
   },
   "outputs": [
    {
     "data": {
      "text/plain": [
       "ID_CORRIDA              object\n",
       "ANO                      int64\n",
       "ETAPA                    int64\n",
       "ID_CIRCUITO             object\n",
       "NOME_CORRIDA            object\n",
       "DATA            datetime64[ns]\n",
       "HORARIO                 object\n",
       "URL                     object\n",
       "dtype: object"
      ]
     },
     "execution_count": 7,
     "metadata": {},
     "output_type": "execute_result"
    }
   ],
   "source": [
    "df.dtypes"
   ]
  },
  {
   "cell_type": "code",
   "execution_count": 8,
   "metadata": {
    "executionInfo": {
     "elapsed": 15,
     "status": "ok",
     "timestamp": 1631551172774,
     "user": {
      "displayName": "Allyson Bueno",
      "photoUrl": "https://lh3.googleusercontent.com/a-/AOh14GgOpD2m-BWySIiTzrOpCQnsyU8yY7sM3cl9MI6nxg=s64",
      "userId": "07589286339759620665"
     },
     "user_tz": 180
    },
    "id": "RfGDGcFgF-Co"
   },
   "outputs": [],
   "source": [
    "#Infos das Linhas e Colunas\n",
    "# df.shape\n",
    "# df.columns\n",
    "# df.dtypes\n",
    "\n",
    "#Estatisticas\n",
    "# df.describe()"
   ]
  },
  {
   "cell_type": "code",
   "execution_count": 9,
   "metadata": {
    "colab": {
     "base_uri": "https://localhost:8080/"
    },
    "executionInfo": {
     "elapsed": 16,
     "status": "ok",
     "timestamp": 1631551172775,
     "user": {
      "displayName": "Allyson Bueno",
      "photoUrl": "https://lh3.googleusercontent.com/a-/AOh14GgOpD2m-BWySIiTzrOpCQnsyU8yY7sM3cl9MI6nxg=s64",
      "userId": "07589286339759620665"
     },
     "user_tz": 180
    },
    "id": "w3c9zsXkUKRX",
    "outputId": "d0b1e82d-eb6f-40fc-9d34-1be1b123a7e7"
   },
   "outputs": [
    {
     "data": {
      "text/plain": [
       "ID_CORRIDA      0\n",
       "ANO             0\n",
       "ETAPA           0\n",
       "ID_CIRCUITO     0\n",
       "NOME_CORRIDA    0\n",
       "DATA            0\n",
       "HORARIO         0\n",
       "URL             0\n",
       "dtype: int64"
      ]
     },
     "execution_count": 9,
     "metadata": {},
     "output_type": "execute_result"
    }
   ],
   "source": [
    "# Verificar nulos\n",
    "df.isnull().sum()\n",
    "\n",
    "# se caso houvesse algum valor nulo, poderia incluir dados da seguinte forma\n",
    "# df[\"NomeColuna\"].fillna(df[\"NomeColuna\"].mean(), implace=True)\n",
    "\n",
    "# ou zerar esses valores:\n",
    "# df[\"NomeColuna\"].fillna(0, implace=True)\n",
    "\n",
    "# ou deletar a linha que tem esses alguma coluna nula:\n",
    "# df.dropna(inplace=True)\n",
    "\n",
    "# ou deletar a linha que tem uma coluna especifica nula:\n",
    "# df.dropna(subset[[\"NomeColuna\", inplace=True)\n",
    "\n",
    "# ou deletar a linha que tem esses todas as colunas nula:\n",
    "# df.dropna(how=all, inplace=True)"
   ]
  },
  {
   "cell_type": "code",
   "execution_count": 10,
   "metadata": {
    "colab": {
     "base_uri": "https://localhost:8080/",
     "height": 419
    },
    "executionInfo": {
     "elapsed": 15,
     "status": "ok",
     "timestamp": 1631551172776,
     "user": {
      "displayName": "Allyson Bueno",
      "photoUrl": "https://lh3.googleusercontent.com/a-/AOh14GgOpD2m-BWySIiTzrOpCQnsyU8yY7sM3cl9MI6nxg=s64",
      "userId": "07589286339759620665"
     },
     "user_tz": 180
    },
    "id": "bPSQSJ_uJOjQ",
    "outputId": "6d20dab6-4bf4-4c4a-f4b3-7c7333de783e"
   },
   "outputs": [
    {
     "data": {
      "text/html": [
       "<div>\n",
       "<style scoped>\n",
       "    .dataframe tbody tr th:only-of-type {\n",
       "        vertical-align: middle;\n",
       "    }\n",
       "\n",
       "    .dataframe tbody tr th {\n",
       "        vertical-align: top;\n",
       "    }\n",
       "\n",
       "    .dataframe thead th {\n",
       "        text-align: right;\n",
       "    }\n",
       "</style>\n",
       "<table border=\"1\" class=\"dataframe\">\n",
       "  <thead>\n",
       "    <tr style=\"text-align: right;\">\n",
       "      <th></th>\n",
       "      <th>ID_CORRIDA</th>\n",
       "      <th>ANO</th>\n",
       "      <th>ETAPA</th>\n",
       "      <th>ID_CIRCUITO</th>\n",
       "      <th>NOME_CORRIDA</th>\n",
       "      <th>DATA</th>\n",
       "      <th>HORARIO</th>\n",
       "      <th>URL</th>\n",
       "    </tr>\n",
       "  </thead>\n",
       "  <tbody>\n",
       "    <tr>\n",
       "      <th>89</th>\n",
       "      <td>90</td>\n",
       "      <td>2004</td>\n",
       "      <td>1</td>\n",
       "      <td>1</td>\n",
       "      <td>Australian Grand Prix</td>\n",
       "      <td>2004-03-07</td>\n",
       "      <td>\\N</td>\n",
       "      <td>http://en.wikipedia.org/wiki/2004_Australian_G...</td>\n",
       "    </tr>\n",
       "    <tr>\n",
       "      <th>90</th>\n",
       "      <td>91</td>\n",
       "      <td>2004</td>\n",
       "      <td>2</td>\n",
       "      <td>2</td>\n",
       "      <td>Malaysian Grand Prix</td>\n",
       "      <td>2004-03-21</td>\n",
       "      <td>\\N</td>\n",
       "      <td>http://en.wikipedia.org/wiki/2004_Malaysian_Gr...</td>\n",
       "    </tr>\n",
       "    <tr>\n",
       "      <th>91</th>\n",
       "      <td>92</td>\n",
       "      <td>2004</td>\n",
       "      <td>3</td>\n",
       "      <td>3</td>\n",
       "      <td>Bahrain Grand Prix</td>\n",
       "      <td>2004-04-04</td>\n",
       "      <td>\\N</td>\n",
       "      <td>http://en.wikipedia.org/wiki/2004_Bahrain_Gran...</td>\n",
       "    </tr>\n",
       "    <tr>\n",
       "      <th>92</th>\n",
       "      <td>93</td>\n",
       "      <td>2004</td>\n",
       "      <td>4</td>\n",
       "      <td>21</td>\n",
       "      <td>San Marino Grand Prix</td>\n",
       "      <td>2004-04-25</td>\n",
       "      <td>\\N</td>\n",
       "      <td>http://en.wikipedia.org/wiki/2004_San_Marino_G...</td>\n",
       "    </tr>\n",
       "    <tr>\n",
       "      <th>93</th>\n",
       "      <td>94</td>\n",
       "      <td>2004</td>\n",
       "      <td>5</td>\n",
       "      <td>4</td>\n",
       "      <td>Spanish Grand Prix</td>\n",
       "      <td>2004-05-09</td>\n",
       "      <td>\\N</td>\n",
       "      <td>http://en.wikipedia.org/wiki/2004_Spanish_Gran...</td>\n",
       "    </tr>\n",
       "    <tr>\n",
       "      <th>...</th>\n",
       "      <td>...</td>\n",
       "      <td>...</td>\n",
       "      <td>...</td>\n",
       "      <td>...</td>\n",
       "      <td>...</td>\n",
       "      <td>...</td>\n",
       "      <td>...</td>\n",
       "      <td>...</td>\n",
       "    </tr>\n",
       "    <tr>\n",
       "      <th>834</th>\n",
       "      <td>835</td>\n",
       "      <td>1950</td>\n",
       "      <td>3</td>\n",
       "      <td>19</td>\n",
       "      <td>Indianapolis 500</td>\n",
       "      <td>1950-05-30</td>\n",
       "      <td>\\N</td>\n",
       "      <td>http://en.wikipedia.org/wiki/1950_Indianapolis...</td>\n",
       "    </tr>\n",
       "    <tr>\n",
       "      <th>835</th>\n",
       "      <td>836</td>\n",
       "      <td>1950</td>\n",
       "      <td>4</td>\n",
       "      <td>66</td>\n",
       "      <td>Swiss Grand Prix</td>\n",
       "      <td>1950-06-04</td>\n",
       "      <td>\\N</td>\n",
       "      <td>http://en.wikipedia.org/wiki/1950_Swiss_Grand_...</td>\n",
       "    </tr>\n",
       "    <tr>\n",
       "      <th>836</th>\n",
       "      <td>837</td>\n",
       "      <td>1950</td>\n",
       "      <td>5</td>\n",
       "      <td>13</td>\n",
       "      <td>Belgian Grand Prix</td>\n",
       "      <td>1950-06-18</td>\n",
       "      <td>\\N</td>\n",
       "      <td>http://en.wikipedia.org/wiki/1950_Belgian_Gran...</td>\n",
       "    </tr>\n",
       "    <tr>\n",
       "      <th>837</th>\n",
       "      <td>838</td>\n",
       "      <td>1950</td>\n",
       "      <td>6</td>\n",
       "      <td>55</td>\n",
       "      <td>French Grand Prix</td>\n",
       "      <td>1950-07-02</td>\n",
       "      <td>\\N</td>\n",
       "      <td>http://en.wikipedia.org/wiki/1950_French_Grand...</td>\n",
       "    </tr>\n",
       "    <tr>\n",
       "      <th>838</th>\n",
       "      <td>839</td>\n",
       "      <td>1950</td>\n",
       "      <td>7</td>\n",
       "      <td>14</td>\n",
       "      <td>Italian Grand Prix</td>\n",
       "      <td>1950-09-03</td>\n",
       "      <td>\\N</td>\n",
       "      <td>http://en.wikipedia.org/wiki/1950_Italian_Gran...</td>\n",
       "    </tr>\n",
       "  </tbody>\n",
       "</table>\n",
       "<p>731 rows × 8 columns</p>\n",
       "</div>"
      ],
      "text/plain": [
       "    ID_CORRIDA   ANO  ETAPA ID_CIRCUITO           NOME_CORRIDA       DATA  \\\n",
       "89          90  2004      1           1  Australian Grand Prix 2004-03-07   \n",
       "90          91  2004      2           2   Malaysian Grand Prix 2004-03-21   \n",
       "91          92  2004      3           3     Bahrain Grand Prix 2004-04-04   \n",
       "92          93  2004      4          21  San Marino Grand Prix 2004-04-25   \n",
       "93          94  2004      5           4     Spanish Grand Prix 2004-05-09   \n",
       "..         ...   ...    ...         ...                    ...        ...   \n",
       "834        835  1950      3          19       Indianapolis 500 1950-05-30   \n",
       "835        836  1950      4          66       Swiss Grand Prix 1950-06-04   \n",
       "836        837  1950      5          13     Belgian Grand Prix 1950-06-18   \n",
       "837        838  1950      6          55      French Grand Prix 1950-07-02   \n",
       "838        839  1950      7          14     Italian Grand Prix 1950-09-03   \n",
       "\n",
       "    HORARIO                                                URL  \n",
       "89       \\N  http://en.wikipedia.org/wiki/2004_Australian_G...  \n",
       "90       \\N  http://en.wikipedia.org/wiki/2004_Malaysian_Gr...  \n",
       "91       \\N  http://en.wikipedia.org/wiki/2004_Bahrain_Gran...  \n",
       "92       \\N  http://en.wikipedia.org/wiki/2004_San_Marino_G...  \n",
       "93       \\N  http://en.wikipedia.org/wiki/2004_Spanish_Gran...  \n",
       "..      ...                                                ...  \n",
       "834      \\N  http://en.wikipedia.org/wiki/1950_Indianapolis...  \n",
       "835      \\N  http://en.wikipedia.org/wiki/1950_Swiss_Grand_...  \n",
       "836      \\N  http://en.wikipedia.org/wiki/1950_Belgian_Gran...  \n",
       "837      \\N  http://en.wikipedia.org/wiki/1950_French_Grand...  \n",
       "838      \\N  http://en.wikipedia.org/wiki/1950_Italian_Gran...  \n",
       "\n",
       "[731 rows x 8 columns]"
      ]
     },
     "execution_count": 10,
     "metadata": {},
     "output_type": "execute_result"
    }
   ],
   "source": [
    "filtro = df[\"HORARIO\"].str.contains('N')\n",
    "df.loc[filtro]"
   ]
  },
  {
   "cell_type": "code",
   "execution_count": 11,
   "metadata": {
    "executionInfo": {
     "elapsed": 261,
     "status": "ok",
     "timestamp": 1631551173023,
     "user": {
      "displayName": "Allyson Bueno",
      "photoUrl": "https://lh3.googleusercontent.com/a-/AOh14GgOpD2m-BWySIiTzrOpCQnsyU8yY7sM3cl9MI6nxg=s64",
      "userId": "07589286339759620665"
     },
     "user_tz": 180
    },
    "id": "o6QTpnKsOgSu"
   },
   "outputs": [],
   "source": [
    "filtro2 = df[\"HORARIO\"].str.contains('N')\n",
    "df.replace(filtro2, pd.NA, inplace=True)"
   ]
  },
  {
   "cell_type": "code",
   "execution_count": 12,
   "metadata": {
    "colab": {
     "base_uri": "https://localhost:8080/"
    },
    "executionInfo": {
     "elapsed": 11,
     "status": "ok",
     "timestamp": 1631551173024,
     "user": {
      "displayName": "Allyson Bueno",
      "photoUrl": "https://lh3.googleusercontent.com/a-/AOh14GgOpD2m-BWySIiTzrOpCQnsyU8yY7sM3cl9MI6nxg=s64",
      "userId": "07589286339759620665"
     },
     "user_tz": 180
    },
    "id": "YoJEkPULPe-G",
    "outputId": "1849051e-b379-4298-d4d5-870254162cd8"
   },
   "outputs": [
    {
     "data": {
      "text/plain": [
       "0       False\n",
       "1       False\n",
       "2       False\n",
       "3       False\n",
       "4       False\n",
       "        ...  \n",
       "1053    False\n",
       "1054    False\n",
       "1055    False\n",
       "1056    False\n",
       "1057    False\n",
       "Name: HORARIO, Length: 1058, dtype: bool"
      ]
     },
     "execution_count": 12,
     "metadata": {},
     "output_type": "execute_result"
    }
   ],
   "source": [
    "df[\"HORARIO\"].str.contains('N')"
   ]
  },
  {
   "cell_type": "code",
   "execution_count": 13,
   "metadata": {
    "colab": {
     "base_uri": "https://localhost:8080/"
    },
    "executionInfo": {
     "elapsed": 8,
     "status": "ok",
     "timestamp": 1631551173024,
     "user": {
      "displayName": "Allyson Bueno",
      "photoUrl": "https://lh3.googleusercontent.com/a-/AOh14GgOpD2m-BWySIiTzrOpCQnsyU8yY7sM3cl9MI6nxg=s64",
      "userId": "07589286339759620665"
     },
     "user_tz": 180
    },
    "id": "Xak5ucwidoHY",
    "outputId": "31654b95-60fa-4d9b-af8c-eacb4f9e1bb0"
   },
   "outputs": [
    {
     "data": {
      "text/plain": [
       "2021    23\n",
       "2019    21\n",
       "2018    21\n",
       "2016    21\n",
       "2017    20\n",
       "        ..\n",
       "1956     8\n",
       "1957     8\n",
       "1961     8\n",
       "1955     7\n",
       "1950     7\n",
       "Name: ANO, Length: 72, dtype: int64"
      ]
     },
     "execution_count": 13,
     "metadata": {},
     "output_type": "execute_result"
    }
   ],
   "source": [
    "df[\"ANO\"].value_counts(ascending=False)"
   ]
  },
  {
   "cell_type": "code",
   "execution_count": 14,
   "metadata": {
    "colab": {
     "base_uri": "https://localhost:8080/",
     "height": 298
    },
    "executionInfo": {
     "elapsed": 860,
     "status": "ok",
     "timestamp": 1631551173879,
     "user": {
      "displayName": "Allyson Bueno",
      "photoUrl": "https://lh3.googleusercontent.com/a-/AOh14GgOpD2m-BWySIiTzrOpCQnsyU8yY7sM3cl9MI6nxg=s64",
      "userId": "07589286339759620665"
     },
     "user_tz": 180
    },
    "id": "8CoeglnzgKys",
    "outputId": "56d0c579-2efc-48d9-873b-67abde944305"
   },
   "outputs": [
    {
     "data": {
      "text/plain": [
       "<AxesSubplot:>"
      ]
     },
     "execution_count": 14,
     "metadata": {},
     "output_type": "execute_result"
    },
    {
     "data": {
      "image/png": "[encoded data removed]",
      "text/plain": [
       "<Figure size 432x288 with 1 Axes>"
      ]
     },
     "metadata": {
      "needs_background": "light"
     },
     "output_type": "display_data"
    }
   ],
   "source": [
    "df[\"ANO\"].value_counts(ascending=False).plot.bar()"
   ]
  },
  {
   "cell_type": "code",
   "execution_count": 15,
   "metadata": {
    "colab": {
     "base_uri": "https://localhost:8080/",
     "height": 285
    },
    "executionInfo": {
     "elapsed": 1207,
     "status": "ok",
     "timestamp": 1631551282738,
     "user": {
      "displayName": "Allyson Bueno",
      "photoUrl": "https://lh3.googleusercontent.com/a-/AOh14GgOpD2m-BWySIiTzrOpCQnsyU8yY7sM3cl9MI6nxg=s64",
      "userId": "07589286339759620665"
     },
     "user_tz": 180
    },
    "id": "ShLFEpQMBrjA",
    "outputId": "52426a3e-f8e2-4d0f-d321-90b6bdcf2e3f"
   },
   "outputs": [
    {
     "data": {
      "text/plain": [
       "<AxesSubplot:>"
      ]
     },
     "execution_count": 15,
     "metadata": {},
     "output_type": "execute_result"
    },
    {
     "data": {
      "image/png": "[encoded data removed]",
      "text/plain": [
       "<Figure size 432x288 with 1 Axes>"
      ]
     },
     "metadata": {
      "needs_background": "light"
     },
     "output_type": "display_data"
    }
   ],
   "source": [
    "df[\"ANO\"].value_counts(ascending=True).plot.barh()"
   ]
  },
  {
   "cell_type": "code",
   "execution_count": 16,
   "metadata": {
    "colab": {
     "base_uri": "https://localhost:8080/",
     "height": 265
    },
    "executionInfo": {
     "elapsed": 783,
     "status": "ok",
     "timestamp": 1631551739229,
     "user": {
      "displayName": "Allyson Bueno",
      "photoUrl": "https://lh3.googleusercontent.com/a-/AOh14GgOpD2m-BWySIiTzrOpCQnsyU8yY7sM3cl9MI6nxg=s64",
      "userId": "07589286339759620665"
     },
     "user_tz": 180
    },
    "id": "h81HxVtKCNgl",
    "outputId": "0f181d05-a071-4a08-eed6-b147581761e1"
   },
   "outputs": [
    {
     "data": {
      "text/plain": [
       "<AxesSubplot:ylabel='ID_CORRIDA'>"
      ]
     },
     "execution_count": 16,
     "metadata": {},
     "output_type": "execute_result"
    },
    {
     "data": {
      "image/png": "[encoded data removed]",
      "text/plain": [
       "<Figure size 432x288 with 1 Axes>"
      ]
     },
     "metadata": {},
     "output_type": "display_data"
    }
   ],
   "source": [
    "# df.groupby(df[\"DATA\"].dt.year)[\"ID_CIRCUITO\"].sum().plot.pie()\n",
    "df.groupby(df[\"ANO\"])[\"ID_CORRIDA\"].sum().plot.pie()"
   ]
  },
  {
   "cell_type": "code",
   "execution_count": 17,
   "metadata": {
    "colab": {
     "base_uri": "https://localhost:8080/"
    },
    "executionInfo": {
     "elapsed": 267,
     "status": "ok",
     "timestamp": 1631551763435,
     "user": {
      "displayName": "Allyson Bueno",
      "photoUrl": "https://lh3.googleusercontent.com/a-/AOh14GgOpD2m-BWySIiTzrOpCQnsyU8yY7sM3cl9MI6nxg=s64",
      "userId": "07589286339759620665"
     },
     "user_tz": 180
    },
    "id": "-MjeFVkbDh7c",
    "outputId": "259397db-261f-441d-c175-e5f9e7bb492c"
   },
   "outputs": [
    {
     "data": {
      "text/plain": [
       "Italian Grand Prix               72\n",
       "British Grand Prix               72\n",
       "Monaco Grand Prix                67\n",
       "Belgian Grand Prix               66\n",
       "German Grand Prix                64\n",
       "French Grand Prix                61\n",
       "Spanish Grand Prix               51\n",
       "Canadian Grand Prix              50\n",
       "Brazilian Grand Prix             48\n",
       "United States Grand Prix         42\n",
       "Hungarian Grand Prix             36\n",
       "Australian Grand Prix            36\n",
       "Japanese Grand Prix              36\n",
       "Austrian Grand Prix              34\n",
       "Dutch Grand Prix                 31\n",
       "San Marino Grand Prix            26\n",
       "South African Grand Prix         23\n",
       "European Grand Prix              23\n",
       "Argentine Grand Prix             20\n",
       "Mexican Grand Prix               20\n",
       "Malaysian Grand Prix             19\n",
       "Portuguese Grand Prix            18\n",
       "Bahrain Grand Prix               17\n",
       "Chinese Grand Prix               16\n",
       "Abu Dhabi Grand Prix             13\n",
       "Singapore Grand Prix             12\n",
       "Indianapolis 500                 11\n",
       "Turkish Grand Prix                9\n",
       "Russian Grand Prix                8\n",
       "United States Grand Prix West     8\n",
       "Detroit Grand Prix                7\n",
       "Swiss Grand Prix                  6\n",
       "Swedish Grand Prix                6\n",
       "Korean Grand Prix                 4\n",
       "Azerbaijan Grand Prix             4\n",
       "Indian Grand Prix                 3\n",
       "Caesars Palace Grand Prix         2\n",
       "Pacific Grand Prix                2\n",
       "Luxembourg Grand Prix             2\n",
       "Emilia Romagna Grand Prix         2\n",
       "Styrian Grand Prix                2\n",
       "Mexico City Grand Prix            1\n",
       "Sakhir Grand Prix                 1\n",
       "Pescara Grand Prix                1\n",
       "Dallas Grand Prix                 1\n",
       "Saudi Arabian Grand Prix          1\n",
       "70th Anniversary Grand Prix       1\n",
       "Tuscan Grand Prix                 1\n",
       "Moroccan Grand Prix               1\n",
       "Eifel Grand Prix                  1\n",
       "Name: NOME_CORRIDA, dtype: int64"
      ]
     },
     "execution_count": 17,
     "metadata": {},
     "output_type": "execute_result"
    }
   ],
   "source": [
    "df[\"NOME_CORRIDA\"].value_counts()"
   ]
  },
  {
   "cell_type": "code",
   "execution_count": 18,
   "metadata": {
    "colab": {
     "base_uri": "https://localhost:8080/",
     "height": 328
    },
    "executionInfo": {
     "elapsed": 1108,
     "status": "ok",
     "timestamp": 1631552010890,
     "user": {
      "displayName": "Allyson Bueno",
      "photoUrl": "https://lh3.googleusercontent.com/a-/AOh14GgOpD2m-BWySIiTzrOpCQnsyU8yY7sM3cl9MI6nxg=s64",
      "userId": "07589286339759620665"
     },
     "user_tz": 180
    },
    "id": "eeFKaQt7EDEi",
    "outputId": "9fd39b19-8eda-4b9c-b93b-aef276b7e5cf"
   },
   "outputs": [
    {
     "data": {
      "text/plain": [
       "Text(0, 0.5, 'ETAPA')"
      ]
     },
     "execution_count": 18,
     "metadata": {},
     "output_type": "execute_result"
    },
    {
     "data": {
      "image/png": "[encoded data removed]",
      "text/plain": [
       "<Figure size 432x288 with 1 Axes>"
      ]
     },
     "metadata": {
      "needs_background": "light"
     },
     "output_type": "display_data"
    }
   ],
   "source": [
    "# ADICIONANDO UM TITULO E ALTERANDO O NOME DOS EIXOS\n",
    "import matplotlib.pyplot as plt\n",
    "df[\"ANO\"].value_counts().plot.bar(title=\"Total de Corridas por Ano\")\n",
    "plt.xlabel(\"ANO\")\n",
    "plt.ylabel(\"ETAPA\")"
   ]
  },
  {
   "cell_type": "code",
   "execution_count": 19,
   "metadata": {
    "colab": {
     "base_uri": "https://localhost:8080/",
     "height": 328
    },
    "executionInfo": {
     "elapsed": 1410,
     "status": "ok",
     "timestamp": 1631552176689,
     "user": {
      "displayName": "Allyson Bueno",
      "photoUrl": "https://lh3.googleusercontent.com/a-/AOh14GgOpD2m-BWySIiTzrOpCQnsyU8yY7sM3cl9MI6nxg=s64",
      "userId": "07589286339759620665"
     },
     "user_tz": 180
    },
    "id": "lvo26YscE_TJ",
    "outputId": "dc64d5b3-4988-44fd-d0bd-23e7e7dd522d"
   },
   "outputs": [
    {
     "data": {
      "text/plain": [
       "Text(0, 0.5, 'ETAPA')"
      ]
     },
     "execution_count": 19,
     "metadata": {},
     "output_type": "execute_result"
    },
    {
     "data": {
      "image/png": "[encoded data removed]",
      "text/plain": [
       "<Figure size 432x288 with 1 Axes>"
      ]
     },
     "metadata": {
      "needs_background": "light"
     },
     "output_type": "display_data"
    }
   ],
   "source": [
    "df[\"ANO\"].value_counts().plot.bar(title=\"Total Corrida por Ano\", color='red')\n",
    "plt.xlabel(\"ANO\")\n",
    "plt.ylabel(\"ETAPA\")"
   ]
  },
  {
   "cell_type": "code",
   "execution_count": 20,
   "metadata": {
    "executionInfo": {
     "elapsed": 494,
     "status": "ok",
     "timestamp": 1631552234324,
     "user": {
      "displayName": "Allyson Bueno",
      "photoUrl": "https://lh3.googleusercontent.com/a-/AOh14GgOpD2m-BWySIiTzrOpCQnsyU8yY7sM3cl9MI6nxg=s64",
      "userId": "07589286339759620665"
     },
     "user_tz": 180
    },
    "id": "pOxQR-KgFntH"
   },
   "outputs": [],
   "source": [
    "# NOVO ESTILO\n",
    "plt.style.use(\"ggplot\")"
   ]
  },
  {
   "cell_type": "code",
   "execution_count": 22,
   "metadata": {
    "colab": {
     "base_uri": "https://localhost:8080/",
     "height": 299
    },
    "executionInfo": {
     "elapsed": 275,
     "status": "ok",
     "timestamp": 1631552380500,
     "user": {
      "displayName": "Allyson Bueno",
      "photoUrl": "https://lh3.googleusercontent.com/a-/AOh14GgOpD2m-BWySIiTzrOpCQnsyU8yY7sM3cl9MI6nxg=s64",
      "userId": "07589286339759620665"
     },
     "user_tz": 180
    },
    "id": "PYn1KwqxF2AC",
    "outputId": "3877924a-bcda-4f23-b5dd-733e6ee2a057"
   },
   "outputs": [
    {
     "data": {
      "image/png": "[encoded data removed]",
      "text/plain": [
       "<Figure size 432x288 with 1 Axes>"
      ]
     },
     "metadata": {},
     "output_type": "display_data"
    }
   ],
   "source": [
    "df.groupby(df[\"ANO\"])[\"ETAPA\"].sum().plot()\n",
    "plt.xlabel(\"ANO\")\n",
    "plt.ylabel(\"ETAPA\")\n",
    "plt.legend();"
   ]
  }
 ],
 "metadata": {
  "colab": {
   "authorship_tag": "ABX9TyPWYuZo0xhuJQB2+qbdRcul",
   "collapsed_sections": [],
   "mount_file_id": "1IoKMKszRgjr-jHjwuR1naSDMj6mss4q0",
   "name": "F1_Races.ipynb",
   "provenance": []
  },
  "kernelspec": {
   "display_name": "Python 3",
   "language": "python",
   "name": "python3"
  },
  "language_info": {
   "codemirror_mode": {
    "name": "ipython",
    "version": 3
   },
   "file_extension": ".py",
   "mimetype": "text/x-python",
   "name": "python",
   "nbconvert_exporter": "python",
   "pygments_lexer": "ipython3",
   "version": "3.8.8"
  }
 },
 "nbformat": 4,
 "nbformat_minor": 4
}
