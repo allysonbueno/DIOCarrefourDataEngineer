{
 "cells": [
  {
   "cell_type": "code",
   "execution_count": 1,
   "id": "fe2dafe5-8b25-4065-afe5-6c63936822f8",
   "metadata": {},
   "outputs": [
    {
     "name": "stdout",
     "output_type": "stream",
     "text": [
      "teste\n"
     ]
    }
   ],
   "source": [
    "print('teste')"
   ]
  },
  {
   "cell_type": "code",
   "execution_count": null,
   "id": "25ed388e-b35e-4117-8bab-5ad54a8d826f",
   "metadata": {},
   "outputs": [],
   "source": []
  }
 ],
 "metadata": {
  "kernelspec": {
   "display_name": "Python 3 (ipykernel)",
   "language": "python",
   "name": "python3"
  },
  "language_info": {
   "codemirror_mode": {
    "name": "ipython",
    "version": 3
   },
   "file_extension": ".py",
   "mimetype": "text/x-python",
   "name": "python",
   "nbconvert_exporter": "python",
   "pygments_lexer": "ipython3",
   "version": "3.9.5"
  }
 },
 "nbformat": 4,
 "nbformat_minor": 5
}
